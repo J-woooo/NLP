{
 "cells": [
  {
   "cell_type": "code",
   "execution_count": 7,
   "metadata": {},
   "outputs": [
    {
     "data": {
      "text/plain": [
       "['I', 'have', 'a', 'pen']"
      ]
     },
     "execution_count": 7,
     "metadata": {},
     "output_type": "execute_result"
    }
   ],
   "source": [
    "from nltk.tokenize import word_tokenize\n",
    "\n",
    "text=\"I have a pen\"\n",
    "word_tokenize(text)"
   ]
  },
  {
   "cell_type": "code",
   "execution_count": 8,
   "metadata": {},
   "outputs": [],
   "source": [
    "text = '''\n",
    "I'm only one call away.\n",
    "I'll be there to save the day.\n",
    "Superman got nothing on me, I'm only one call away.\n",
    "And when you're weak, I'll be strong, I'm gonna keep holding on.\n",
    "Now don't you worry it won't be long darling.\n",
    "And when you feel like hope is gone just run into my arms.\n",
    "'''"
   ]
  },
  {
   "cell_type": "code",
   "execution_count": 10,
   "metadata": {},
   "outputs": [
    {
     "name": "stdout",
     "output_type": "stream",
     "text": [
      "['I', 'm', 'only', 'one', 'call', 'away', 'I', 'll', 'be', 'there', 'to', 'save', 'the', 'day', 'Superman', 'got', 'nothing', 'on', 'me', 'I', 'm', 'only', 'one', 'call', 'away', 'And', 'when', 'you', 're', 'weak', 'I', 'll', 'be', 'strong', 'I', 'm', 'gonna', 'keep', 'holding', 'on', 'Now', 'don', 't', 'you', 'worry', 'it', 'won', 't', 'be', 'long', 'darling', 'And', 'when', 'you', 'feel', 'like', 'hope', 'is', 'gone', 'just', 'run', 'into', 'my', 'arms']\n"
     ]
    }
   ],
   "source": [
    "from nltk.tokenize import RegexpTokenizer\n",
    "\n",
    "print(RegexpTokenizer('\\w+').tokenize(text))"
   ]
  },
  {
   "cell_type": "code",
   "execution_count": 11,
   "metadata": {},
   "outputs": [
    {
     "name": "stdout",
     "output_type": "stream",
     "text": [
      "Requirement already satisfied: konlpy in c:\\python38\\lib\\site-packages (0.5.2)\n",
      "Requirement already satisfied: colorama in c:\\python38\\lib\\site-packages (from konlpy) (0.4.3)\n",
      "Requirement already satisfied: beautifulsoup4==4.6.0 in c:\\python38\\lib\\site-packages (from konlpy) (4.6.0)\n",
      "Requirement already satisfied: JPype1>=0.7.0 in c:\\python38\\lib\\site-packages (from konlpy) (1.0.1)\n",
      "Requirement already satisfied: lxml>=4.1.0 in c:\\python38\\lib\\site-packages (from konlpy) (4.5.2)\n",
      "Requirement already satisfied: numpy>=1.6 in c:\\python38\\lib\\site-packages (from konlpy) (1.18.3)\n",
      "Requirement already satisfied: tweepy>=3.7.0 in c:\\python38\\lib\\site-packages (from konlpy) (3.9.0)\n",
      "Requirement already satisfied: six>=1.10.0 in c:\\python38\\lib\\site-packages (from tweepy>=3.7.0->konlpy) (1.14.0)\n",
      "Requirement already satisfied: requests-oauthlib>=0.7.0 in c:\\python38\\lib\\site-packages (from tweepy>=3.7.0->konlpy) (1.3.0)\n",
      "Requirement already satisfied: requests[socks]>=2.11.1 in c:\\python38\\lib\\site-packages (from tweepy>=3.7.0->konlpy) (2.23.0)\n",
      "Requirement already satisfied: oauthlib>=3.0.0 in c:\\python38\\lib\\site-packages (from requests-oauthlib>=0.7.0->tweepy>=3.7.0->konlpy) (3.1.0)\n",
      "Requirement already satisfied: certifi>=2017.4.17 in c:\\python38\\lib\\site-packages (from requests[socks]>=2.11.1->tweepy>=3.7.0->konlpy) (2020.4.5.1)\n",
      "Requirement already satisfied: idna<3,>=2.5 in c:\\python38\\lib\\site-packages (from requests[socks]>=2.11.1->tweepy>=3.7.0->konlpy) (2.9)\n",
      "Requirement already satisfied: chardet<4,>=3.0.2 in c:\\python38\\lib\\site-packages (from requests[socks]>=2.11.1->tweepy>=3.7.0->konlpy) (3.0.4)\n",
      "Requirement already satisfied: urllib3!=1.25.0,!=1.25.1,<1.26,>=1.21.1 in c:\\python38\\lib\\site-packages (from requests[socks]>=2.11.1->tweepy>=3.7.0->konlpy) (1.25.9)\n",
      "Requirement already satisfied: PySocks!=1.5.7,>=1.5.6; extra == \"socks\" in c:\\python38\\lib\\site-packages (from requests[socks]>=2.11.1->tweepy>=3.7.0->konlpy) (1.7.1)\n"
     ]
    }
   ],
   "source": [
    "!pip install konlpy"
   ]
  },
  {
   "cell_type": "code",
   "execution_count": 13,
   "metadata": {},
   "outputs": [
    {
     "name": "stderr",
     "output_type": "stream",
     "text": [
      "[nltk_data] Downloading package stopwords to\n",
      "[nltk_data]     C:\\Users\\jw969\\AppData\\Roaming\\nltk_data...\n",
      "[nltk_data]   Package stopwords is already up-to-date!\n"
     ]
    },
    {
     "data": {
      "text/plain": [
       "True"
      ]
     },
     "execution_count": 13,
     "metadata": {},
     "output_type": "execute_result"
    }
   ],
   "source": [
    "import nltk\n",
    "nltk.download('stopwords')"
   ]
  },
  {
   "cell_type": "code",
   "execution_count": null,
   "metadata": {},
   "outputs": [],
   "source": [
    "from collections import Counter\n"
   ]
  }
 ],
 "metadata": {
  "kernelspec": {
   "display_name": "Python 3",
   "language": "python",
   "name": "python3"
  },
  "language_info": {
   "codemirror_mode": {
    "name": "ipython",
    "version": 3
   },
   "file_extension": ".py",
   "mimetype": "text/x-python",
   "name": "python",
   "nbconvert_exporter": "python",
   "pygments_lexer": "ipython3",
   "version": "3.8.1"
  }
 },
 "nbformat": 4,
 "nbformat_minor": 4
}
