{
 "cells": [
  {
   "cell_type": "code",
   "execution_count": 5,
   "metadata": {},
   "outputs": [
    {
     "name": "stdout",
     "output_type": "stream",
     "text": [
      "# preprocessing done\n"
     ]
    }
   ],
   "source": [
    "import pandas as pd\n",
    "import numpy as np\n",
    "\n",
    "from tensorflow.keras.preprocessing.text import Tokenizer\n",
    "from sklearn.model_selection import train_test_split\n",
    "\n",
    "imdb_data = pd.read_csv(\"IMDBDataset.csv\")\n",
    "# pos, neg값 수자로 변경\n",
    "imdb_data['sentiment'] = imdb_data['sentiment'].replace('positive',1)\n",
    "imdb_data['sentiment'] = imdb_data['sentiment'].replace('negative',0)\n",
    "# 단어 아니면 삭제\n",
    "imdb_data['review'] = imdb_data['review'].str.replace(\"[^\\w]|br\", \" \")\n",
    "# 공백이 있으면 null array로\n",
    "imdb_data['review'] = imdb_data['review'].replace('',np.nan)\n",
    "imdb_data['sentiment'] = imdb_data['sentiment'].replace('',np.nan)\\\n",
    "# null array 모두 제거(공백인 열 모두 제거)\n",
    "imdb_data = imdb_data.dropna(how='any')\n",
    "\n",
    "print(\"# preprocessing done\")"
   ]
  },
  {
   "cell_type": "code",
   "execution_count": 6,
   "metadata": {},
   "outputs": [
    {
     "name": "stdout",
     "output_type": "stream",
     "text": [
      "# split done\n"
     ]
    }
   ],
   "source": [
    "# train test 스플릿\n",
    "review_train, review_test, y_train, y_test = train_test_split(imdb_data['review'], imdb_data['sentiment'], test_size=0.4, shuffle=False, random_state=1004)\n",
    "print(\"# split done\")"
   ]
  },
  {
   "cell_type": "code",
   "execution_count": null,
   "metadata": {},
   "outputs": [],
   "source": [
    "# stopwords 지정\n",
    "stopwords = ['a', 'an']\n",
    "\n",
    "# "
   ]
  }
 ],
 "metadata": {
  "kernelspec": {
   "display_name": "Python 3",
   "language": "python",
   "name": "python3"
  },
  "language_info": {
   "codemirror_mode": {
    "name": "ipython",
    "version": 3
   },
   "file_extension": ".py",
   "mimetype": "text/x-python",
   "name": "python",
   "nbconvert_exporter": "python",
   "pygments_lexer": "ipython3",
   "version": "3.8.1"
  }
 },
 "nbformat": 4,
 "nbformat_minor": 4
}
