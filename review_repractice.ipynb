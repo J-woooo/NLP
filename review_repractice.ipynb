{
 "cells": [
  {
   "cell_type": "raw",
   "metadata": {},
   "source": [
    "[]: 문자\n",
    ".: 모든 문자\n",
    "*: 0부터 반복\n",
    "+: 1부터 반복\n",
    "{m,n}: 횟수 지정\n",
    "?: 있어도 되고 없어도 되고\n",
    "|: or\n",
    "^: 시작\n",
    "$: 끝\n",
    "\n",
    "match() 문자열 처음부터 매치\n",
    "search() 문자열 전체 매치\n",
    "findall() 매치된거 문자열 리스트로 반환\n",
    "finditer() 매치된거 각각 match로 반환"
   ]
  },
  {
   "cell_type": "markdown",
   "metadata": {},
   "source": [
    "1. \\['abbbbba', 'cddb', 'aerb', 'aeeeb', 'almnj']\n",
    "(모두 문자열)일 때 1, 3번째만 True를 리턴하는 정규표현식을 작성하시오"
   ]
  },
  {
   "cell_type": "code",
   "execution_count": 6,
   "metadata": {},
   "outputs": [
    {
     "name": "stdout",
     "output_type": "stream",
     "text": [
      "None\n",
      "None\n",
      "<re.Match object; span=(0, 4), match='aerb'>\n",
      "None\n",
      "None\n"
     ]
    }
   ],
   "source": [
    "import re\n",
    "\n",
    "a = ['abbbbba', 'cddb', 'aerb', 'aeeeb', 'almnj']\n",
    "# a로 시작하면서 b로 끝나는데 사이에 어떤 문자든지 2개가 온다\n",
    "p = re.compile('a.{2}b$')\n",
    "\n",
    "for i in a:\n",
    "    matched = p.match(i)\n",
    "    print(matched)"
   ]
  },
  {
   "cell_type": "raw",
   "metadata": {},
   "source": [
    "match는 그냥 object, 그 안에는\n",
    "group(): 매치된 문자열 전부/ 일부\n",
    "start(): 매치된 문자열 시작 인덱스\n",
    "end(): 매치된 문자열 끝 인덱스\n",
    "span(): 매치된 문자열 (시작, 끝) 튜플"
   ]
  },
  {
   "cell_type": "raw",
   "metadata": {},
   "source": [
    "컴파일 할 때 쓸수 있는 옵션들.\n",
    "DOTALL(S): .에 줄바꿈 포함\n",
    "IGNORECASE(I): 대소문자 무시\n",
    "MULTILINE(M): 여러줄 매치(^,$시)\n",
    "VERBOSE(X): 주석 작성가능"
   ]
  },
  {
   "cell_type": "raw",
   "metadata": {},
   "source": [
    "문자 클래스\n",
    "\\d: 숫자 \\D: not 숫자\n",
    "\\s: 공백(탭, 스페이스, 줄바꿈 포함) \\S: not 공백\n",
    "\\w: 문자+숫자 \\W: not 문자+숫자\n",
    "\\b: 문자와 공백 사이의 문자 \\B: not 문자와 공백 사이의 문자\n",
    "\\A: 문자열 처음\n",
    "\\Z: 문자열 끝"
   ]
  },
  {
   "cell_type": "markdown",
   "metadata": {},
   "source": [
    "2. \\['abcd efghopqr-stuv', 'abcd-efgh', 'abc defghijk', 'ab cdhijk'] 일 때 1, 3, 4번째만 match되도록 정규표현식을 작성하시오."
   ]
  },
  {
   "cell_type": "code",
   "execution_count": 15,
   "metadata": {},
   "outputs": [
    {
     "name": "stdout",
     "output_type": "stream",
     "text": [
      "<re.Match object; span=(0, 18), match='abcd efghopqr-stuv'>\n",
      "None\n",
      "<re.Match object; span=(0, 12), match='abc defghijk'>\n",
      "<re.Match object; span=(0, 9), match='ab cdhijk'>\n"
     ]
    }
   ],
   "source": [
    "import re\n",
    "\n",
    "a =['abcd efghopqr-stuv', 'abcd-efgh', 'abc defghijk', 'ab cdhijk']\n",
    "\n",
    "p = re.compile(r'.+\\s.+')\n",
    "# 공백을 포함하고 0개 이상의 어떤 문자든지 올 수 있다.\n",
    "for i in a:\n",
    "    matched = p.match(i)\n",
    "    print(matched)"
   ]
  },
  {
   "cell_type": "raw",
   "metadata": {},
   "source": [
    "일치하는 것을 참조하기 위한 Grouping\n",
    "()하면 그룹이 되고 이후에 .group(n)으로 뽑을 수 있음\n",
    "내부에서 \\1 \\2로 재참조도 가능\n",
    "()안에 ?P<name>을 넣어서 이름을 붙일수도 있다.\n",
    "\n",
    "(?)구문\n",
    "()안에 ?는 백슬래시 같은 느낌으로 \n",
    "(?P<이름>): 이름 지정하겠다.\n",
    "(?=특정문자): 특정문자 바로 앞까지만 매치하겠다.\n",
    "(?!특정문자): 특정문자가 아닌 경우에만 통과하겠다."
   ]
  },
  {
   "cell_type": "markdown",
   "metadata": {},
   "source": [
    "3. 그룹을 사용해서 \\['코끼리는 코끼리', '강아지는 강아지', '고양이는 고양이'] 모두에게 True를 리턴하는 정규표현식을 작성하고, 주어들을 순서대로 출력하세요."
   ]
  },
  {
   "cell_type": "code",
   "execution_count": 22,
   "metadata": {},
   "outputs": [
    {
     "name": "stdout",
     "output_type": "stream",
     "text": [
      "<re.Match object; span=(0, 8), match='코끼리는 코끼리'>\n",
      "코끼리\n",
      "<re.Match object; span=(0, 8), match='강아지는 강아지'>\n",
      "강아지\n",
      "<re.Match object; span=(0, 8), match='고양이는 고양이'>\n",
      "고양이\n"
     ]
    }
   ],
   "source": [
    "import re\n",
    "\n",
    "a = ['코끼리는 코끼리', '강아지는 강아지', '고양이는 고양이']\n",
    "p = re.compile(r'(?P<name>.+)는\\s\\1')\n",
    "# name이라는 그룹을 만들어서 '는'이 오기 전까지 모든문자를 그룹으로 만들고 공백처리\\s 하고 \\1으로 그룹으로 들어온 1번째 거를 사용\n",
    "for i in a:\n",
    "    matched = p.match(i)\n",
    "    print(matched)\n",
    "    print(matched.group('name'))"
   ]
  },
  {
   "cell_type": "raw",
   "metadata": {},
   "source": [
    "매치되는 것들을 바꾸고 싶을 때\n",
    ".sub('바뀐 뒤에 문자', '바꿀 대상')\n",
    ".subn도 비슷하지만 바뀐 횟수까지 출력한다.\n",
    "\n",
    "바뀐 뒤의 문자에는 \\g를 통해서 그룹을 넣어줄 수도 있고, 함수를 넣어줄 수도 있다."
   ]
  },
  {
   "cell_type": "markdown",
   "metadata": {},
   "source": [
    "4. \\['김준태 - 학점 2.0', '이재화 - 학점 3.0', '최주원 - 학점 4.0']에서 학점을 모두 4.5로 바꿔주세요!"
   ]
  },
  {
   "cell_type": "code",
   "execution_count": 49,
   "metadata": {},
   "outputs": [
    {
     "name": "stdout",
     "output_type": "stream",
     "text": [
      "<re.Match object; span=(0, 12), match='김준태 - 학점 2.0'>\n",
      "김준태 - 학점 4.5\n",
      "<re.Match object; span=(0, 12), match='이재화 - 학점 3.0'>\n",
      "이재화 - 학점 4.5\n",
      "<re.Match object; span=(0, 12), match='최주원 - 학점 4.0'>\n",
      "최주원 - 학점 4.5\n"
     ]
    }
   ],
   "source": [
    "import re\n",
    "\n",
    "a = ['김준태 - 학점 2.0', '이재화 - 학점 3.0', '최주원 - 학점 4.0']\n",
    "p = re.compile(r'(?P<rest>.+\\s.\\s).+')\n",
    "# rest라는 그룹을 만들어서 공백+모든문자+공백\n",
    "for i in a:\n",
    "    matched = p.match(i)\n",
    "    print(matched)\n",
    "#     print(matched.group(1))\n",
    "    print(p.sub(\"\\g<rest>학점 4.5\",i))"
   ]
  },
  {
   "cell_type": "raw",
   "metadata": {},
   "source": [
    "전체 다 말고 하나만 바꾸고 싶을때\n",
    "s = '(안녕)하세(요)' 에서 ()로 매치하면 오류(그대로 출력됨)가 나므로 ?로 써서 (안녕)까지만 매치되게한다.\n",
    "? -> 최소한의 반복"
   ]
  },
  {
   "cell_type": "markdown",
   "metadata": {},
   "source": [
    "5. <div id=\"u_skip\"> <a href=\"#newsstand\"><span>뉴스스탠드 바로가기</span></a> <a href=\"#themecast\"><span>주제별캐스트 바로가기</span></a> <a href=\"#timesquare\"><span>타임스퀘어 바로가기</span></a> <a href=\"#shopcast\"><span>쇼핑캐스트 바로가기</span></a> <a href=\"#account\"><span>로그인 바로가기</span></a> </div> 에서 사용된 모든 태그(<>)를 출력하세요. "
   ]
  },
  {
   "cell_type": "code",
   "execution_count": 55,
   "metadata": {},
   "outputs": [
    {
     "data": {
      "text/plain": [
       "['<div id=\"u_skip\">',\n",
       " '<a href=\"#newsstand\">',\n",
       " '<span>',\n",
       " '</span>',\n",
       " '</a>',\n",
       " '<a href=\"#themecast\">',\n",
       " '<span>',\n",
       " '</span>',\n",
       " '</a>',\n",
       " '<a href=\"#timesquare\">',\n",
       " '<span>',\n",
       " '</span>',\n",
       " '</a>',\n",
       " '<a href=\"#shopcast\">',\n",
       " '<span>',\n",
       " '</span>',\n",
       " '</a>',\n",
       " '<a href=\"#account\">',\n",
       " '<span>',\n",
       " '</span>',\n",
       " '</a>',\n",
       " '</div>']"
      ]
     },
     "execution_count": 55,
     "metadata": {},
     "output_type": "execute_result"
    }
   ],
   "source": [
    "import re\n",
    "\n",
    "a = '<div id=\"u_skip\"> <a href=\"#newsstand\"><span>뉴스스탠드 바로가기</span></a> <a href=\"#themecast\"><span>주제별캐스트 바로가기</span></a> <a href=\"#timesquare\"><span>타임스퀘어 바로가기</span></a> <a href=\"#shopcast\"><span>쇼핑캐스트 바로가기</span></a> <a href=\"#account\"><span>로그인 바로가기</span></a> </div>'\n",
    "p = re.compile(r'<.*?>')\n",
    "p.findall(a)"
   ]
  },
  {
   "cell_type": "markdown",
   "metadata": {},
   "source": [
    "6. '1100+1200+1300+1800=5400' 이라는 문장에서 등호표시 전의 숫자만 8진법으로 변경하세요."
   ]
  },
  {
   "cell_type": "code",
   "execution_count": 58,
   "metadata": {},
   "outputs": [
    {
     "name": "stdout",
     "output_type": "stream",
     "text": [
      "0o2114+0o2260+0o2424+0o3410=5400\n"
     ]
    }
   ],
   "source": [
    "import re\n",
    "\n",
    "def octa(match):\n",
    "    a = int(match.group())\n",
    "    return oct(a)\n",
    "a = '1100+1200+1300+1800=5400'\n",
    "p = re.compile('1\\d{3}')\n",
    "b = p.sub(octa,a)\n",
    "print(b)"
   ]
  },
  {
   "cell_type": "markdown",
   "metadata": {},
   "source": [
    "7. \\['https://naver.com', 'https://korea.ac.kr', 'https://www.google.com', 'google.com', 'https://facebook.com', 'naver.com'] 에서 https로 시작하고, www.이 없고, 마지막이 .com으로 끝나는 주소만 True를 리턴하는 정규표현식을 작성하세요."
   ]
  },
  {
   "cell_type": "code",
   "execution_count": 73,
   "metadata": {},
   "outputs": [
    {
     "name": "stdout",
     "output_type": "stream",
     "text": [
      "<re.Match object; span=(0, 17), match='https://naver.com'>\n",
      "None\n",
      "None\n",
      "None\n",
      "<re.Match object; span=(0, 20), match='https://facebook.com'>\n",
      "None\n"
     ]
    }
   ],
   "source": [
    "import re\n",
    "a = ['https://naver.com', 'https://korea.ac.kr', 'https://www.google.com', 'google.com', 'https://facebook.com', 'naver.com']\n",
    "# 처음이 https://이고 그 직후에 w를 포함하지 않으면서 모든 문자를 허용하고 .com으로 끝난다\n",
    "p = re.compile('^https://[^w]+.com$')\n",
    "\n",
    "for i in a:\n",
    "    matched = p.match(i)\n",
    "    print(matched)"
   ]
  },
  {
   "cell_type": "markdown",
   "metadata": {},
   "source": [
    "8. a = '''mike 010-1234-0907 mikeman@naver.com hi! my name is mike!\n",
    "jay 010-1112-3456 jayman@naver.com hi! my name is jay!\n",
    "yohan 010-2223-5874 yohanman@naver.com hi! my name is yohan!\n",
    "'''\n",
    "위 문장에서 순서 배치를 전화번호, 이메일, 자기소개, 이름 순서로 변경하시오."
   ]
  },
  {
   "cell_type": "code",
   "execution_count": 75,
   "metadata": {},
   "outputs": [
    {
     "data": {
      "text/plain": [
       "'010-1234-0907 mikeman@naver.com hi! my name is mike! mike 010-1112-3456 jayman@naver.com hi! my name is jay! jay 010-2223-5874 yohanman@naver.com hi! my name is yohan! yohan '"
      ]
     },
     "execution_count": 75,
     "metadata": {},
     "output_type": "execute_result"
    }
   ],
   "source": [
    "import re\n",
    "\n",
    "a = '''mike 010-1234-0907 mikeman@naver.com hi! my name is mike!\n",
    "jay 010-1112-3456 jayman@naver.com hi! my name is jay!\n",
    "yohan 010-2223-5874 yohanman@naver.com hi! my name is yohan!\n",
    "'''\n",
    "p = re.compile(r'(?P<name>.+)\\s(?P<phone>\\d+.\\d+.\\d+)\\s(?P<mail>.+.com)\\s(?P<intro>.+\\1!)\\n')\n",
    "p.sub('\\g<phone> \\g<mail> \\g<intro> \\g<name> ', a)"
   ]
  },
  {
   "cell_type": "code",
   "execution_count": null,
   "metadata": {},
   "outputs": [],
   "source": []
  }
 ],
 "metadata": {
  "kernelspec": {
   "display_name": "Python 3",
   "language": "python",
   "name": "python3"
  },
  "language_info": {
   "codemirror_mode": {
    "name": "ipython",
    "version": 3
   },
   "file_extension": ".py",
   "mimetype": "text/x-python",
   "name": "python",
   "nbconvert_exporter": "python",
   "pygments_lexer": "ipython3",
   "version": "3.8.1"
  }
 },
 "nbformat": 4,
 "nbformat_minor": 4
}
