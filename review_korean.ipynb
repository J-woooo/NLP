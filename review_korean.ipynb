{
 "cells": [
  {
   "cell_type": "raw",
   "metadata": {},
   "source": [
    "Bag of Words: 단어 별 정수 인덱스를 부여 후, 빈도 수를 기록한 것\n",
    "Document-Term Matrix: 전체 문서에서 등장한 단어만큼의 열을 가진 벡터에서 문서 별로 등장한 단어에 빈도수만큼의 수를 부여\n",
    "TF(Term Frequency): 특정 문서에서 특정 단어가 등장한 횟수를 말한다.\n",
    "DF:특정 단어가 등장한 문서의 수를 말한다.\n",
    "IDF: DF의 역수를 말한다. 이 때 단순 역수가 아닌 log(n/(1+df(t)))를 사용하여 수가 너무 커지는 것을 방지하고 분모에 1을 더해 분모가 0이 아니게 한다."
   ]
  },
  {
   "cell_type": "code",
   "execution_count": null,
   "metadata": {},
   "outputs": [],
   "source": []
  }
 ],
 "metadata": {
  "kernelspec": {
   "display_name": "Python 3",
   "language": "python",
   "name": "python3"
  },
  "language_info": {
   "codemirror_mode": {
    "name": "ipython",
    "version": 3
   },
   "file_extension": ".py",
   "mimetype": "text/x-python",
   "name": "python",
   "nbconvert_exporter": "python",
   "pygments_lexer": "ipython3",
   "version": "3.8.1"
  }
 },
 "nbformat": 4,
 "nbformat_minor": 4
}
